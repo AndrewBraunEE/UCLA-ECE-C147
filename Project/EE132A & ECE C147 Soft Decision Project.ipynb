{
 "cells": [
  {
   "cell_type": "code",
   "execution_count": 1,
   "metadata": {},
   "outputs": [],
   "source": [
    "##4QAM, 16QAM, 64QAM, BPSK, 8PSK."
   ]
  },
  {
   "cell_type": "code",
   "execution_count": 5,
   "metadata": {},
   "outputs": [],
   "source": [
    "from keras import backend as K\n",
    "from keras.layers import Layer\n",
    "from keras.layers import Activation, Dense\n",
    "from keras import optimizers\n",
    "import numpy as np\n",
    "import scipy.io\n",
    "import pandas as pd\n",
    "import matplotlib.pyplot as plt"
   ]
  },
  {
   "cell_type": "code",
   "execution_count": 63,
   "metadata": {},
   "outputs": [
    {
     "name": "stdout",
     "output_type": "stream",
     "text": [
      "[-1.  1.]\n",
      "coord: [(-0.7071067811865475-0.7071067811865475j), (-0.7071067811865475+0j), (-0.7071067811865475+0.7071067811865475j), (0.7071067811865475-0.7071067811865475j), (0.7071067811865475+0j), (0.7071067811865475+0.7071067811865475j)] \n",
      "\n",
      "[-1.  0.  1.]\n",
      "coord: [(-0.7071067811865475-0.7071067811865475j), (-0.7071067811865475-0.35355339059327373j), (-0.7071067811865475+0j), (-0.7071067811865475+0.35355339059327373j), (-0.7071067811865475+0.7071067811865475j), -0.7071067811865475j, -0.35355339059327373j, 0j, 0.35355339059327373j, 0.7071067811865475j, (0.7071067811865475-0.7071067811865475j), (0.7071067811865475-0.35355339059327373j), (0.7071067811865475+0j), (0.7071067811865475+0.35355339059327373j), (0.7071067811865475+0.7071067811865475j)] \n",
      "\n",
      "[-1.  -0.5  0.   0.5  1. ]\n",
      "coord: [(-0.7071067811865475-0.7071067811865475j), (-0.7071067811865475-0.5303300858899106j), (-0.7071067811865475-0.35355339059327373j), (-0.7071067811865475-0.17677669529663687j), (-0.7071067811865475+0j), (-0.7071067811865475+0.17677669529663687j), (-0.7071067811865475+0.35355339059327373j), (-0.7071067811865475+0.5303300858899106j), (-0.7071067811865475+0.7071067811865475j), (-0.35355339059327373-0.7071067811865475j), (-0.35355339059327373-0.5303300858899106j), (-0.35355339059327373-0.35355339059327373j), (-0.35355339059327373-0.17677669529663687j), (-0.35355339059327373+0j), (-0.35355339059327373+0.17677669529663687j), (-0.35355339059327373+0.35355339059327373j), (-0.35355339059327373+0.5303300858899106j), (-0.35355339059327373+0.7071067811865475j), -0.7071067811865475j, -0.5303300858899106j, -0.35355339059327373j, -0.17677669529663687j, 0j, 0.17677669529663687j, 0.35355339059327373j, 0.5303300858899106j, 0.7071067811865475j, (0.35355339059327373-0.7071067811865475j), (0.35355339059327373-0.5303300858899106j), (0.35355339059327373-0.35355339059327373j), (0.35355339059327373-0.17677669529663687j), (0.35355339059327373+0j), (0.35355339059327373+0.17677669529663687j), (0.35355339059327373+0.35355339059327373j), (0.35355339059327373+0.5303300858899106j), (0.35355339059327373+0.7071067811865475j), (0.7071067811865475-0.7071067811865475j), (0.7071067811865475-0.5303300858899106j), (0.7071067811865475-0.35355339059327373j), (0.7071067811865475-0.17677669529663687j), (0.7071067811865475+0j), (0.7071067811865475+0.17677669529663687j), (0.7071067811865475+0.35355339059327373j), (0.7071067811865475+0.5303300858899106j), (0.7071067811865475+0.7071067811865475j)] \n",
      "\n",
      "['0', '1']\n",
      "['000', '001', '011', '010', '110', '111', '101', '100']\n"
     ]
    },
    {
     "name": "stderr",
     "output_type": "stream",
     "text": [
      "d:\\applications\\python3\\lib\\site-packages\\ipykernel_launcher.py:50: ComplexWarning: Casting complex values to real discards the imaginary part\n"
     ]
    }
   ],
   "source": [
    "#Definitions to automatically generate symbols of QAM and M-Ary PSK\n",
    "def gray_code(n):\n",
    "    if n < 1:\n",
    "        g = []\n",
    "    else:\n",
    "        g = ['0', '1']\n",
    "        n -= 1\n",
    "        while n > 0:\n",
    "            k = len(g)\n",
    "            for i in range(k-1, -1, -1):\n",
    "                char = '1' + g[i]\n",
    "                g.append(char)\n",
    "            for i in range(k-1, -1, -1):\n",
    "                g[i] = '0' + g[i]\n",
    "            n -= 1\n",
    "    return g\n",
    "\n",
    "class QAM:\n",
    "    def __init__(self, NUM_SYMBOLS = 4, SAMP_RATE = 1):\n",
    "        self.NUM_SYMBOLS = NUM_SYMBOLS\n",
    "        self.SAMP_RATE = SAMP_RATE\n",
    "        dim_iq_axis = int(np.sqrt(NUM_SYMBOLS))\n",
    "        self.coords = []\n",
    "        self.symbols = gray_code(dim_iq_axis)\n",
    "        MAX_ENERGY = np.sqrt(2) #For QAM with coordinates at (x=1,y=1), normalized energy: divide by sqrt(2)\n",
    "        #4 Syms: Step size is 2\n",
    "        #16 Syms: Fit 4 syms one line from -1 to 1. Step size is 1/2\n",
    "        #We fit 4 since it's 16 Symbols. On one line, it's sqrt(NUM_SYMBOLS) = 4\n",
    "        #Symbols = Spacing * Width (Width = 2). So spacing = symbols / width\n",
    "        print(np.arange(-1, 1.1, 4/(dim_iq_axis)))\n",
    "        for i in np.arange(-1, 1.1, 4/(dim_iq_axis)):\n",
    "            for k in np.arange(-1, 1.001, 2/(dim_iq_axis)):\n",
    "                self.coords.append(np.complex64(i + k*1j)/(MAX_ENERGY))\n",
    "        \n",
    "        #self.bits_to_coords = dict(zip(self.symbols, self.coords))\n",
    "        print('coord:', self.coords, \"\\n\")\n",
    "        #print(self.bits_to_coords)\n",
    "        #Above generates a grid structure for QAM\n",
    "        \n",
    "class PSK:\n",
    "    def __init__(self, NUM_SYMBOLS = 8, SAMP_RATE = 1):\n",
    "        self.NUM_SYMBOLS = NUM_SYMBOLS\n",
    "        self.SAMP_RATE = SAMP_RATE\n",
    "        self.grid = np.zeros(NUM_SYMBOLS)\n",
    "        #self.symbols = gray_code(NUM_SYMBOLS)\n",
    "        self.symbols = gray_code(np.log2(NUM_SYMBOLS))\n",
    "        cnt = 0\n",
    "        for i in np.arange(0, NUM_SYMBOLS/(2*np.pi) , 2*np.pi):\n",
    "            #i is the phase\n",
    "            self.grid[cnt] =  1*np.exp(1j*i)\n",
    "            cnt += 1\n",
    "        #Above generates an array with the approximate locations of the symbols.\n",
    "        print(self.symbols)\n",
    "        \n",
    "qam4 = QAM(NUM_SYMBOLS=4)\n",
    "qam16 = QAM(NUM_SYMBOLS=16)\n",
    "qam64 = QAM(NUM_SYMBOLS=64)\n",
    "BPSK = PSK(NUM_SYMBOLS = 2)\n",
    "PSK8 = PSK(NUM_SYMBOLS = 8)"
   ]
  },
  {
   "cell_type": "code",
   "execution_count": 6,
   "metadata": {},
   "outputs": [
    {
     "ename": "NameError",
     "evalue": "name 'model' is not defined",
     "output_type": "error",
     "traceback": [
      "\u001b[1;31m---------------------------------------------------------------------------\u001b[0m",
      "\u001b[1;31mNameError\u001b[0m                                 Traceback (most recent call last)",
      "\u001b[1;32m<ipython-input-6-090a1baa01a5>\u001b[0m in \u001b[0;36m<module>\u001b[1;34m\u001b[0m\n\u001b[0;32m     25\u001b[0m \u001b[1;33m\u001b[0m\u001b[0m\n\u001b[0;32m     26\u001b[0m \u001b[0mAdam\u001b[0m\u001b[1;33m=\u001b[0m\u001b[0moptimizers\u001b[0m\u001b[1;33m.\u001b[0m\u001b[0mAdam\u001b[0m\u001b[1;33m(\u001b[0m\u001b[0mlr\u001b[0m\u001b[1;33m=\u001b[0m\u001b[1;36m0.0005\u001b[0m\u001b[1;33m,\u001b[0m \u001b[0mbeta_1\u001b[0m\u001b[1;33m=\u001b[0m\u001b[1;36m0.9\u001b[0m\u001b[1;33m,\u001b[0m \u001b[0mbeta_2\u001b[0m\u001b[1;33m=\u001b[0m\u001b[1;36m0.999\u001b[0m\u001b[1;33m,\u001b[0m \u001b[0mamsgrad\u001b[0m\u001b[1;33m=\u001b[0m\u001b[1;32mFalse\u001b[0m\u001b[1;33m)\u001b[0m\u001b[1;33m\u001b[0m\u001b[1;33m\u001b[0m\u001b[0m\n\u001b[1;32m---> 27\u001b[1;33m \u001b[0mmodel\u001b[0m\u001b[1;33m.\u001b[0m\u001b[0mcompile\u001b[0m\u001b[1;33m(\u001b[0m\u001b[0mloss\u001b[0m\u001b[1;33m=\u001b[0m\u001b[1;34m'cross-entropy'\u001b[0m\u001b[1;33m,\u001b[0m \u001b[0moptimizer\u001b[0m\u001b[1;33m=\u001b[0m\u001b[1;34m'Adam'\u001b[0m\u001b[1;33m,\u001b[0m \u001b[0mmetrics\u001b[0m\u001b[1;33m=\u001b[0m\u001b[1;33m[\u001b[0m\u001b[1;34m'accuracy'\u001b[0m\u001b[1;33m]\u001b[0m\u001b[1;33m)\u001b[0m\u001b[1;33m\u001b[0m\u001b[1;33m\u001b[0m\u001b[0m\n\u001b[0m\u001b[0;32m     28\u001b[0m \u001b[0mtraining_data\u001b[0m \u001b[1;33m=\u001b[0m \u001b[0mnp\u001b[0m\u001b[1;33m.\u001b[0m\u001b[0marray\u001b[0m\u001b[1;33m(\u001b[0m\u001b[0mX_train\u001b[0m\u001b[1;33m)\u001b[0m\u001b[1;33m\u001b[0m\u001b[1;33m\u001b[0m\u001b[0m\n\u001b[0;32m     29\u001b[0m \u001b[0mtest_data\u001b[0m \u001b[1;33m=\u001b[0m \u001b[0mnp\u001b[0m\u001b[1;33m.\u001b[0m\u001b[0marray\u001b[0m\u001b[1;33m(\u001b[0m\u001b[0mX_test\u001b[0m\u001b[1;33m)\u001b[0m\u001b[1;33m\u001b[0m\u001b[1;33m\u001b[0m\u001b[0m\n",
      "\u001b[1;31mNameError\u001b[0m: name 'model' is not defined"
     ]
    }
   ],
   "source": [
    "def generate_model(bps = 4):\n",
    "    model = Sequential()\n",
    "    model.add(Dense(bps, input_dim=bps))\n",
    "    model.add(Activation('relu'))\n",
    "    model.add(Dense(bps, input_dim=bps))\n",
    "    return model\n",
    "\n",
    "def soft_demodulate(num_bits_symbol, symbol_mapping):\n",
    "    #Code taken from CommPy: https://github.com/veeresht/CommPy/blob/master/commpy/modulation.py\n",
    "    demod_bits = np.zeros(len(input_symbols) * num_bits_symbol)\n",
    "    for i in arange(len(input_symbols)):\n",
    "        current_symbol = input_symbols[i]\n",
    "        for bit_index in arange(num_bits_symbol):\n",
    "            llr_num = 0\n",
    "            llr_den = 0\n",
    "            for const_index in symbol_mapping:\n",
    "                if (const_index >> bit_index) & 1:\n",
    "                    llr_num = llr_num + exp(\n",
    "                        (-abs(current_symbol - self.constellation[const_index]) ** 2) / noise_var)\n",
    "                else:\n",
    "                    llr_den = llr_den + exp(\n",
    "                        (-abs(current_symbol - self.constellation[const_index]) ** 2) / noise_var)\n",
    "            demod_bits[i * self.num_bits_symbol + self.num_bits_symbol - 1 - bit_index] = log(llr_num / llr_den)\n",
    "    return demod_bits"
   ]
  },
  {
   "cell_type": "code",
   "execution_count": null,
   "metadata": {},
   "outputs": [],
   "source": [
    "Adam=optimizers.Adam(lr=0.0005, beta_1=0.9, beta_2=0.999, amsgrad=False)\n",
    "model.compile(loss='cross-entropy', optimizer='Adam', metrics=['accuracy'])\n",
    "training_data = np.array(X_train)\n",
    "test_data = np.array(X_test)\n",
    "\n",
    "#Run model. Make sure to regen this model to prevent overfitting\n",
    "history=model.fit(training_data, y_train, validation_data=(test_data, y_test), epochs=130)\n",
    "history_list.append(history)"
   ]
  }
 ],
 "metadata": {
  "kernelspec": {
   "display_name": "Python 3",
   "language": "python",
   "name": "python3"
  },
  "language_info": {
   "codemirror_mode": {
    "name": "ipython",
    "version": 3
   },
   "file_extension": ".py",
   "mimetype": "text/x-python",
   "name": "python",
   "nbconvert_exporter": "python",
   "pygments_lexer": "ipython3",
   "version": "3.7.1"
  }
 },
 "nbformat": 4,
 "nbformat_minor": 2
}
