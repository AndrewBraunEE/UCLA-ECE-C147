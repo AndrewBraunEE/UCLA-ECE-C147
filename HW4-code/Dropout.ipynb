{
 "cells": [
  {
   "cell_type": "markdown",
   "metadata": {},
   "source": [
    "# Dropout\n",
    "\n",
    "In this notebook, you will implement dropout.  Then we will ask you to train a network with batchnorm and dropout, and acheive over 55% accuracy on CIFAR-10.\n",
    "\n",
    "CS231n has built a solid API for building these modular frameworks and training them, and we will use their very well implemented framework as opposed to \"reinventing the wheel.\"  This includes using their Solver, various utility functions, and their layer structure.  This also includes nndl.fc_net, nndl.layers, and nndl.layer_utils.  As in prior assignments, we thank Serena Yeung & Justin Johnson for permission to use code written for the CS 231n class (cs231n.stanford.edu).  "
   ]
  },
  {
   "cell_type": "code",
   "execution_count": 1,
   "metadata": {},
   "outputs": [],
   "source": [
    "## Import and setups\n",
    "\n",
    "import time\n",
    "import numpy as np\n",
    "import matplotlib.pyplot as plt\n",
    "from nndl.fc_net import *\n",
    "from nndl.layers import *\n",
    "from cs231n.data_utils import get_CIFAR10_data\n",
    "from cs231n.gradient_check import eval_numerical_gradient, eval_numerical_gradient_array\n",
    "from cs231n.solver import Solver\n",
    "\n",
    "%matplotlib inline\n",
    "plt.rcParams['figure.figsize'] = (10.0, 8.0) # set default size of plots\n",
    "plt.rcParams['image.interpolation'] = 'nearest'\n",
    "plt.rcParams['image.cmap'] = 'gray'\n",
    "\n",
    "# for auto-reloading external modules\n",
    "# see http://stackoverflow.com/questions/1907993/autoreload-of-modules-in-ipython\n",
    "%load_ext autoreload\n",
    "%autoreload 2\n",
    "\n",
    "def rel_error(x, y):\n",
    "    \"\"\" returns relative error \"\"\"\n",
    "    return np.max(np.abs(x - y) / (np.maximum(1e-8, np.abs(x) + np.abs(y))))"
   ]
  },
  {
   "cell_type": "code",
   "execution_count": 2,
   "metadata": {},
   "outputs": [
    {
     "name": "stdout",
     "output_type": "stream",
     "text": [
      "X_train: (49000, 3, 32, 32) \n",
      "y_train: (49000,) \n",
      "X_val: (1000, 3, 32, 32) \n",
      "y_val: (1000,) \n",
      "X_test: (1000, 3, 32, 32) \n",
      "y_test: (1000,) \n"
     ]
    }
   ],
   "source": [
    "# Load the (preprocessed) CIFAR10 data.\n",
    "\n",
    "data = get_CIFAR10_data()\n",
    "for k in data.keys():\n",
    "    print('{}: {} '.format(k, data[k].shape))"
   ]
  },
  {
   "cell_type": "markdown",
   "metadata": {},
   "source": [
    "## Dropout forward pass\n",
    "\n",
    "Implement the training and test time dropout forward pass, `dropout_forward`, in `nndl/layers.py`. After that, test your implementation by running the following cell."
   ]
  },
  {
   "cell_type": "code",
   "execution_count": 3,
   "metadata": {},
   "outputs": [
    {
     "name": "stdout",
     "output_type": "stream",
     "text": [
      "Running tests with p =  0.3\n",
      "Mean of input:  9.998607064493596\n",
      "Mean of train-time output:  7.006490469881562\n",
      "Mean of test-time output:  9.998607064493596\n",
      "Fraction of train-time output set to zero:  0.299232\n",
      "Fraction of test-time output set to zero:  0.0\n",
      "Running tests with p =  0.6\n",
      "Mean of input:  9.998607064493596\n",
      "Mean of train-time output:  4.024759190346156\n",
      "Mean of test-time output:  9.998607064493596\n",
      "Fraction of train-time output set to zero:  0.59746\n",
      "Fraction of test-time output set to zero:  0.0\n",
      "Running tests with p =  0.75\n",
      "Mean of input:  9.998607064493596\n",
      "Mean of train-time output:  2.512504526277114\n",
      "Mean of test-time output:  9.998607064493596\n",
      "Fraction of train-time output set to zero:  0.748668\n",
      "Fraction of test-time output set to zero:  0.0\n"
     ]
    }
   ],
   "source": [
    "x = np.random.randn(500, 500) + 10\n",
    "\n",
    "for p in [0.3, 0.6, 0.75]:\n",
    "    out, _ = dropout_forward(x, {'mode': 'train', 'p': p})\n",
    "    out_test, _ = dropout_forward(x, {'mode': 'test', 'p': p})\n",
    "\n",
    "    print('Running tests with p = ', p)\n",
    "    print('Mean of input: ', x.mean())\n",
    "    print('Mean of train-time output: ', out.mean())\n",
    "    print('Mean of test-time output: ', out_test.mean())\n",
    "    print('Fraction of train-time output set to zero: ', (out == 0).mean())\n",
    "    print('Fraction of test-time output set to zero: ', (out_test == 0).mean())"
   ]
  },
  {
   "cell_type": "markdown",
   "metadata": {},
   "source": [
    "## Dropout backward pass\n",
    "\n",
    "Implement the backward pass, `dropout_backward`, in `nndl/layers.py`.  After that, test your gradients by running the following cell:"
   ]
  },
  {
   "cell_type": "code",
   "execution_count": 4,
   "metadata": {},
   "outputs": [
    {
     "name": "stdout",
     "output_type": "stream",
     "text": [
      "dx relative error:  1.8928952047377214e-11\n"
     ]
    }
   ],
   "source": [
    "x = np.random.randn(10, 10) + 10\n",
    "dout = np.random.randn(*x.shape)\n",
    "\n",
    "dropout_param = {'mode': 'train', 'p': 0.8, 'seed': 123}\n",
    "out, cache = dropout_forward(x, dropout_param)\n",
    "dx = dropout_backward(dout, cache)\n",
    "dx_num = eval_numerical_gradient_array(lambda xx: dropout_forward(xx, dropout_param)[0], x, dout)\n",
    "\n",
    "print('dx relative error: ', rel_error(dx, dx_num))"
   ]
  },
  {
   "cell_type": "markdown",
   "metadata": {},
   "source": [
    "## Implement a fully connected neural network with dropout layers\n",
    "\n",
    "Modify the `FullyConnectedNet()` class in `nndl/fc_net.py` to incorporate dropout.  A dropout layer should be incorporated after every ReLU layer.  Concretely, there shouldn't be a dropout at the output layer since there is no ReLU at the output layer. You will need to modify the class in the following areas:\n",
    "\n",
    "(1) In the forward pass, you will need to incorporate a dropout layer after every relu layer.\n",
    "\n",
    "(2) In the backward pass, you will need to incorporate a dropout backward pass layer.\n",
    "\n",
    "Check your implementation by running the following code.  Our W1 gradient relative error is on the order of 1e-6 (the largest of all the relative errors)."
   ]
  },
  {
   "cell_type": "code",
   "execution_count": 5,
   "metadata": {},
   "outputs": [
    {
     "name": "stdout",
     "output_type": "stream",
     "text": [
      "Running check with dropout =  0.5\n",
      "Initial loss:  2.3052017574074988\n",
      "W1 relative error: 8.424304166650062e-07\n",
      "W2 relative error: 3.639927148829238e-07\n",
      "W3 relative error: 8.059827996258932e-08\n",
      "b1 relative error: 1.792820732695455e-08\n",
      "b2 relative error: 1.7028480139083283e-09\n",
      "b3 relative error: 9.885993030503735e-11\n",
      "\n",
      "\n",
      "Running check with dropout =  0.75\n",
      "Initial loss:  2.3025570024040185\n",
      "W1 relative error: 6.393720367005828e-07\n",
      "W2 relative error: 9.586432697009482e-09\n",
      "W3 relative error: 2.7054675498916053e-08\n",
      "b1 relative error: 6.023301232972825e-09\n",
      "b2 relative error: 6.159225257232955e-10\n",
      "b3 relative error: 1.3510593625504552e-10\n",
      "\n",
      "\n",
      "Running check with dropout =  1.0\n",
      "Initial loss:  2.3053332250963194\n",
      "W1 relative error: 1.2744095365229032e-06\n",
      "W2 relative error: 4.678743300473988e-07\n",
      "W3 relative error: 4.331673892536035e-08\n",
      "b1 relative error: 4.0853539035931665e-08\n",
      "b2 relative error: 1.951342257912746e-09\n",
      "b3 relative error: 9.387142701440351e-11\n",
      "\n",
      "\n"
     ]
    }
   ],
   "source": [
    "N, D, H1, H2, C = 2, 15, 20, 30, 10\n",
    "X = np.random.randn(N, D)\n",
    "y = np.random.randint(C, size=(N,))\n",
    "\n",
    "for dropout in [0.5, 0.75, 1.0]:\n",
    "    print('Running check with dropout = ', dropout)\n",
    "    model = FullyConnectedNet([H1, H2], input_dim=D, num_classes=C,\n",
    "                              weight_scale=5e-2, dtype=np.float64,\n",
    "                              dropout=dropout, seed=123)\n",
    "\n",
    "    loss, grads = model.loss(X, y)\n",
    "    print('Initial loss: ', loss)\n",
    "\n",
    "    for name in sorted(grads):\n",
    "        f = lambda _: model.loss(X, y)[0]\n",
    "        grad_num = eval_numerical_gradient(f, model.params[name], verbose=False, h=1e-5)\n",
    "        print('{} relative error: {}'.format(name, rel_error(grad_num, grads[name])))\n",
    "    print('\\n')"
   ]
  },
  {
   "cell_type": "markdown",
   "metadata": {},
   "source": [
    "## Dropout as a regularizer\n",
    "\n",
    "In class, we claimed that dropout acts as a regularizer by effectively bagging.  To check this, we will train two small networks, one with dropout and one without dropout.  "
   ]
  },
  {
   "cell_type": "code",
   "execution_count": 6,
   "metadata": {},
   "outputs": [
    {
     "name": "stdout",
     "output_type": "stream",
     "text": [
      "(Iteration 1 / 125) loss: 2.302534\n",
      "(Epoch 0 / 25) train acc: 0.146000; val_acc: 0.131000\n",
      "(Epoch 1 / 25) train acc: 0.134000; val_acc: 0.120000\n",
      "(Epoch 2 / 25) train acc: 0.168000; val_acc: 0.138000\n",
      "(Epoch 3 / 25) train acc: 0.176000; val_acc: 0.148000\n",
      "(Epoch 4 / 25) train acc: 0.156000; val_acc: 0.136000\n",
      "(Epoch 5 / 25) train acc: 0.150000; val_acc: 0.130000\n",
      "(Epoch 6 / 25) train acc: 0.160000; val_acc: 0.143000\n",
      "(Epoch 7 / 25) train acc: 0.176000; val_acc: 0.148000\n",
      "(Epoch 8 / 25) train acc: 0.232000; val_acc: 0.186000\n",
      "(Epoch 9 / 25) train acc: 0.270000; val_acc: 0.203000\n",
      "(Epoch 10 / 25) train acc: 0.298000; val_acc: 0.228000\n",
      "(Epoch 11 / 25) train acc: 0.310000; val_acc: 0.243000\n",
      "(Epoch 12 / 25) train acc: 0.298000; val_acc: 0.251000\n",
      "(Epoch 13 / 25) train acc: 0.300000; val_acc: 0.248000\n",
      "(Epoch 14 / 25) train acc: 0.306000; val_acc: 0.247000\n",
      "(Epoch 15 / 25) train acc: 0.326000; val_acc: 0.265000\n",
      "(Epoch 16 / 25) train acc: 0.322000; val_acc: 0.278000\n",
      "(Epoch 17 / 25) train acc: 0.340000; val_acc: 0.285000\n",
      "(Epoch 18 / 25) train acc: 0.352000; val_acc: 0.288000\n",
      "(Epoch 19 / 25) train acc: 0.350000; val_acc: 0.286000\n",
      "(Epoch 20 / 25) train acc: 0.376000; val_acc: 0.280000\n",
      "(Iteration 101 / 125) loss: 1.859258\n",
      "(Epoch 21 / 25) train acc: 0.384000; val_acc: 0.275000\n",
      "(Epoch 22 / 25) train acc: 0.384000; val_acc: 0.280000\n",
      "(Epoch 23 / 25) train acc: 0.404000; val_acc: 0.277000\n",
      "(Epoch 24 / 25) train acc: 0.400000; val_acc: 0.276000\n",
      "(Epoch 25 / 25) train acc: 0.404000; val_acc: 0.282000\n",
      "(Iteration 1 / 125) loss: 2.300607\n",
      "(Epoch 0 / 25) train acc: 0.172000; val_acc: 0.167000\n",
      "(Epoch 1 / 25) train acc: 0.210000; val_acc: 0.197000\n",
      "(Epoch 2 / 25) train acc: 0.284000; val_acc: 0.240000\n",
      "(Epoch 3 / 25) train acc: 0.302000; val_acc: 0.246000\n",
      "(Epoch 4 / 25) train acc: 0.392000; val_acc: 0.289000\n",
      "(Epoch 5 / 25) train acc: 0.420000; val_acc: 0.274000\n",
      "(Epoch 6 / 25) train acc: 0.420000; val_acc: 0.304000\n",
      "(Epoch 7 / 25) train acc: 0.474000; val_acc: 0.293000\n",
      "(Epoch 8 / 25) train acc: 0.516000; val_acc: 0.330000\n",
      "(Epoch 9 / 25) train acc: 0.566000; val_acc: 0.322000\n",
      "(Epoch 10 / 25) train acc: 0.620000; val_acc: 0.321000\n",
      "(Epoch 11 / 25) train acc: 0.656000; val_acc: 0.317000\n",
      "(Epoch 12 / 25) train acc: 0.676000; val_acc: 0.319000\n",
      "(Epoch 13 / 25) train acc: 0.680000; val_acc: 0.304000\n",
      "(Epoch 14 / 25) train acc: 0.752000; val_acc: 0.323000\n",
      "(Epoch 15 / 25) train acc: 0.802000; val_acc: 0.321000\n",
      "(Epoch 16 / 25) train acc: 0.804000; val_acc: 0.300000\n",
      "(Epoch 17 / 25) train acc: 0.868000; val_acc: 0.303000\n",
      "(Epoch 18 / 25) train acc: 0.894000; val_acc: 0.298000\n",
      "(Epoch 19 / 25) train acc: 0.910000; val_acc: 0.282000\n",
      "(Epoch 20 / 25) train acc: 0.926000; val_acc: 0.316000\n",
      "(Iteration 101 / 125) loss: 0.245816\n",
      "(Epoch 21 / 25) train acc: 0.950000; val_acc: 0.282000\n",
      "(Epoch 22 / 25) train acc: 0.958000; val_acc: 0.292000\n",
      "(Epoch 23 / 25) train acc: 0.966000; val_acc: 0.307000\n",
      "(Epoch 24 / 25) train acc: 0.966000; val_acc: 0.285000\n",
      "(Epoch 25 / 25) train acc: 0.970000; val_acc: 0.284000\n"
     ]
    }
   ],
   "source": [
    "# Train two identical nets, one with dropout and one without\n",
    "\n",
    "num_train = 500\n",
    "small_data = {\n",
    "    'X_train': data['X_train'][:num_train],\n",
    "    'y_train': data['y_train'][:num_train],\n",
    "    'X_val': data['X_val'],\n",
    "    'y_val': data['y_val'],\n",
    "}\n",
    "\n",
    "solvers = {}\n",
    "dropout_choices = [0.6, 1.0]\n",
    "for dropout in dropout_choices:\n",
    "    model = FullyConnectedNet([100, 100, 100], dropout=dropout)\n",
    "\n",
    "    solver = Solver(model, small_data,\n",
    "                    num_epochs=25, batch_size=100,\n",
    "                    update_rule='adam',\n",
    "                    optim_config={\n",
    "                      'learning_rate': 5e-4,\n",
    "                    },\n",
    "                    verbose=True, print_every=100)\n",
    "    solver.train()\n",
    "    solvers[dropout] = solver"
   ]
  },
  {
   "cell_type": "code",
   "execution_count": 7,
   "metadata": {},
   "outputs": [
    {
     "data": {
      "image/png": "[encoded data removed]",
      "text/plain": [
       "<Figure size 1080x1080 with 2 Axes>"
      ]
     },
     "metadata": {
      "needs_background": "light"
     },
     "output_type": "display_data"
    }
   ],
   "source": [
    "# Plot train and validation accuracies of the two models\n",
    "\n",
    "train_accs = []\n",
    "val_accs = []\n",
    "for dropout in dropout_choices:\n",
    "    solver = solvers[dropout]\n",
    "    train_accs.append(solver.train_acc_history[-1])\n",
    "    val_accs.append(solver.val_acc_history[-1])\n",
    "\n",
    "plt.subplot(3, 1, 1)\n",
    "for dropout in dropout_choices:\n",
    "    plt.plot(solvers[dropout].train_acc_history, 'o', label='%.2f dropout' % dropout)\n",
    "plt.title('Train accuracy')\n",
    "plt.xlabel('Epoch')\n",
    "plt.ylabel('Accuracy')\n",
    "plt.legend(ncol=2, loc='lower right')\n",
    "  \n",
    "plt.subplot(3, 1, 2)\n",
    "for dropout in dropout_choices:\n",
    "    plt.plot(solvers[dropout].val_acc_history, 'o', label='%.2f dropout' % dropout)\n",
    "plt.title('Val accuracy')\n",
    "plt.xlabel('Epoch')\n",
    "plt.ylabel('Accuracy')\n",
    "plt.legend(ncol=2, loc='lower right')\n",
    "\n",
    "plt.gcf().set_size_inches(15, 15)\n",
    "plt.show()"
   ]
  },
  {
   "cell_type": "markdown",
   "metadata": {},
   "source": [
    "## Question\n",
    "\n",
    "Based off the results of this experiment, is dropout performing regularization?  Explain your answer."
   ]
  },
  {
   "cell_type": "markdown",
   "metadata": {},
   "source": [
    "## Answer:\n",
    "We observe that dropout has a lower training accuracy but has a larger validation accuracy, which indicates that when using dropout, the network is not simply overfitting to the training data and is generalizing better than the baseline to data it has not seen before (test / validation set). Hence, dropout is performing regularization"
   ]
  },
  {
   "cell_type": "markdown",
   "metadata": {},
   "source": [
    "##### Final part of the assignment\n",
    "\n",
    "Get over 55% validation accuracy on CIFAR-10 by using the layers you have implemented.  You will be graded according to the following equation:\n",
    "\n",
    "min(floor((X - 32%)) / 23%, 1) \n",
    "where if you get 55% or higher validation accuracy, you get full points."
   ]
  },
  {
   "cell_type": "code",
   "execution_count": 9,
   "metadata": {
    "scrolled": false
   },
   "outputs": [
    {
     "name": "stdout",
     "output_type": "stream",
     "text": [
      "(Iteration 1 / 6125) loss: 2.943690\n",
      "(Epoch 0 / 25) train acc: 0.162000; val_acc: 0.182000\n",
      "(Epoch 1 / 25) train acc: 0.420000; val_acc: 0.430000\n",
      "(Epoch 2 / 25) train acc: 0.473000; val_acc: 0.459000\n",
      "(Epoch 3 / 25) train acc: 0.519000; val_acc: 0.491000\n",
      "(Epoch 4 / 25) train acc: 0.529000; val_acc: 0.511000\n",
      "(Epoch 5 / 25) train acc: 0.541000; val_acc: 0.514000\n",
      "(Epoch 6 / 25) train acc: 0.547000; val_acc: 0.523000\n",
      "(Epoch 7 / 25) train acc: 0.583000; val_acc: 0.538000\n",
      "(Epoch 8 / 25) train acc: 0.550000; val_acc: 0.538000\n",
      "(Epoch 9 / 25) train acc: 0.604000; val_acc: 0.543000\n",
      "(Epoch 10 / 25) train acc: 0.616000; val_acc: 0.572000\n",
      "(Epoch 11 / 25) train acc: 0.647000; val_acc: 0.551000\n",
      "(Epoch 12 / 25) train acc: 0.614000; val_acc: 0.560000\n",
      "(Epoch 13 / 25) train acc: 0.659000; val_acc: 0.570000\n",
      "(Epoch 14 / 25) train acc: 0.640000; val_acc: 0.558000\n",
      "(Epoch 15 / 25) train acc: 0.668000; val_acc: 0.575000\n",
      "(Epoch 16 / 25) train acc: 0.654000; val_acc: 0.536000\n",
      "(Epoch 17 / 25) train acc: 0.682000; val_acc: 0.575000\n",
      "(Epoch 18 / 25) train acc: 0.691000; val_acc: 0.559000\n",
      "(Epoch 19 / 25) train acc: 0.691000; val_acc: 0.563000\n",
      "(Epoch 20 / 25) train acc: 0.689000; val_acc: 0.584000\n",
      "(Epoch 21 / 25) train acc: 0.725000; val_acc: 0.563000\n",
      "(Epoch 22 / 25) train acc: 0.725000; val_acc: 0.580000\n",
      "(Epoch 23 / 25) train acc: 0.737000; val_acc: 0.580000\n",
      "(Epoch 24 / 25) train acc: 0.732000; val_acc: 0.584000\n",
      "(Epoch 25 / 25) train acc: 0.745000; val_acc: 0.581000\n"
     ]
    },
    {
     "data": {
      "image/png": "[encoded data removed]",
      "text/plain": [
       "<Figure size 1080x1080 with 2 Axes>"
      ]
     },
     "metadata": {
      "needs_background": "light"
     },
     "output_type": "display_data"
    }
   ],
   "source": [
    "# ================================================================ #\n",
    "# YOUR CODE HERE:\n",
    "#   Implement a FC-net that achieves at least 55% validation accuracy\n",
    "#   on CIFAR-10.\n",
    "# ================================================================ #\n",
    "\n",
    "dropout_choices = [0.3] \n",
    "learning_rate = 1e-3\n",
    "weight_scale = 1e-1\n",
    "lr_decay = 1\n",
    "for dropout in dropout_choices:\n",
    "    time_start = time.time()\n",
    "    model = FullyConnectedNet([500, 500, 500, 500, 500], weight_scale = weight_scale,\n",
    "                             use_batchnorm=True,dropout=dropout)\n",
    "    solver = Solver(model, data, num_epochs=25, batch_size=200, update_rule='rmsprop',\n",
    "                   optim_config={'learning_rate': learning_rate}, lr_decay = lr_decay,\n",
    "                   verbose=True, print_every=10e5)\n",
    "    solver.train()\n",
    "    solvers[dropout] = solver\n",
    "\n",
    "train_accs = []\n",
    "val_accs = []\n",
    "for dropout in dropout_choices:\n",
    "    solver = solvers[dropout]\n",
    "    train_accs.append(solver.train_acc_history[-1])\n",
    "    val_accs.append(solver.val_acc_history[-1])\n",
    "    \n",
    "plt.subplot(3,1,1)\n",
    "for dropout in dropout_choices:\n",
    "    plt.plot(solvers[dropout].train_acc_history, label = '%.2f Dropout' % dropout)\n",
    "plt.title('5 layer Training Accuracy')\n",
    "plt.xlabel('Epoch')\n",
    "plt.ylabel('Accuracy')\n",
    "plt.legend(ncol = 2, loc = 'lower right')\n",
    "\n",
    "plt.subplot(3,1,2)\n",
    "for dropout in dropout_choices:\n",
    "    plt.plot(solvers[dropout].val_acc_history, label = '%.2f Dropout' % dropout)\n",
    "plt.title('5 layer Training Accuracy')\n",
    "plt.xlabel('Epoch')\n",
    "plt.ylabel('Accuracy')\n",
    "plt.legend(ncol = 2, loc = 'lower right')\n",
    "\n",
    "plt.gcf().set_size_inches(15, 15)\n",
    "plt.show()\n",
    "# ================================================================ #\n",
    "# END YOUR CODE HERE\n",
    "# ================================================================ #\n"
   ]
  },
  {
   "cell_type": "code",
   "execution_count": null,
   "metadata": {},
   "outputs": [],
   "source": []
  }
 ],
 "metadata": {
  "kernelspec": {
   "display_name": "Python 3",
   "language": "python",
   "name": "python3"
  },
  "language_info": {
   "codemirror_mode": {
    "name": "ipython",
    "version": 3
   },
   "file_extension": ".py",
   "mimetype": "text/x-python",
   "name": "python",
   "nbconvert_exporter": "python",
   "pygments_lexer": "ipython3",
   "version": "3.7.1"
  }
 },
 "nbformat": 4,
 "nbformat_minor": 2
}
